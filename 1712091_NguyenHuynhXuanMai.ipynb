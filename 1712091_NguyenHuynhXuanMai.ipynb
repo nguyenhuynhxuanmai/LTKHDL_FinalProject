{
 "cells": [
  {
   "cell_type": "markdown",
   "metadata": {},
   "source": [
    "# GETTING IINSPIRATION\n",
    "\n",
    "- Trước đây, khi học Sinh hoạt Công dân đầu khóa năm 2, khi đến mục bằng cấp Anh văn và một số lời khuyên khi cải thiện Tiếng Anh thì thầy cô đã giới thiệu đến cho em trang web [ted.com](https://www.ted.com/). Em cũng từng mường tượng nghĩ rằng chắc sẽ là một trang web tổng hợp các video về nhiều mặt hoặc trích từ các film đã có translate tiện cho việc học Tiếng Anh. Em đã thử tìm hiểu và phát hiện ra TED là một trang có dữ liệu video về các buổi hội thảo (Talks)/những thước phim (Ed - Animation) do chính TED sản xuất và có những chủ đề và nhiều loại ngôn ngữ đa dạng. \n",
    "<img src=\"https://www.upsieutoc.com/images/2020/08/15/topic.png\" alt=\"Parrondo\" border=\"0\"> \n",
    "<img src=\"https://www.upsieutoc.com/images/2020/08/15/language.png\" alt=\"Parrondo\" border=\"0\">\n",
    "- Thậm chí bây giờ, trên youtube còn có hẳn những channel riêng của TED.\n",
    "<img src=\"https://www.upsieutoc.com/images/2020/08/15/ted-chanel.png\" alt=\"Parrondo\" border=\"0\"> <img src=\"https://www.upsieutoc.com/images/2020/08/15/ted-chanel-2.png\" alt=\"Parrondo\" border=\"0\"> \n",
    "- Sau khi xem một vài video, em cảm thấy có hứng thú về TED càng quan tâm nhiều đến dữ liệu tổng hợp các talks có trên TED và đặt câu hỏi: \"Tại sao TED lại thành công đến vậy?\", \"Các bài talks nào đã đánh dấu tên tuổi của TED?\", \"Những video nào của TED được xem nhiều nhất?\", ... "
   ]
  },
  {
   "cell_type": "markdown",
   "metadata": {},
   "source": [
    "# ABOUT TED TALKS\n",
    "<img src=\"https://www.upsieutoc.com/images/2020/08/13/backgroundted.jpg\" alt=\"Parrondo\" border=\"0\">"
   ]
  },
  {
   "cell_type": "markdown",
   "metadata": {},
   "source": [
    "- TED (Technology, Entertainment, Design - Công nghệ, Giải trí, Thiết kế) là một tổ chức truyền thông đại chúng chuyên đăng tải những phần nói chuyện, cho phép xem trực tuyến miễn phí, với khẩu hiệu \"ideas worth spreading\" (\"Những ý tưởng đáng lan truyền\"). TED được thành lập vào tháng 2 năm 1984 dưới dạng một buổi hội thảo, và bắt đầu được tổ chức hàng năm từ năm 1990. Ban đầu, nội dung của TED nhấn mạnh vào công nghệ và thiết kế, nhưng nó đã mở rộng trọng tâm của nó bao gồm các cuộc thảo luận về nhiều chủ đề khoa học, văn hoá và học thuật.\n",
    "- Hội thảo chính của TED được tổ chức thường niên tại Vancouver, British Columbia, Canada ở Trung tâm Hội nghị Vancouver. Trước năm 2014, hội nghị này được tổ chức tại Long Beach. Các sự kiện của TED cũng được tổ chức ở khắp Bắc Mỹ, châu Âu và châu Á, cung cấp streaming trực tiếp các bài nói chuyện. Họ đề cập đến một loạt các chủ đề trong nghiên cứu và thực hành khoa học và văn hoá, thường thông qua việc kể chuyện. Các diễn giả được cho tối đa là 18 phút để trình bày ý tưởng của mình theo những cách sáng tạo và hấp dẫn nhất mà họ có thể thể hiện. \n",
    "- Từ tháng 6 năm 2006, TED Talks đã được cung cấp xem trực tuyến miễn phí, theo điều kiện Ghi công - Phi thương mại - Phi phái sinh của giấy phép Creative Commons, thông qua trang [TED.com](https://www.ted.com/). <img src=\"https://www.upsieutoc.com/images/2020/08/13/CaptureTed.png\" alt=\"Parrondo\" border=\"0\">\n",
    "- Tính đến tháng 3 năm 2016, hơn 2.400 bài nói chuyện TED Talk đã có sẵn cho phép truy cập tự do trên trang web. Vào tháng 6 năm 2011, con số lượt xem đã gộp vào đã vượt mốc 500 triệu lượt, và vào tháng 11 năm 2012, các bài nói chuyện TED Talk đã được theo dõi trên một tỷ lượt trên toàn thế giới. Tuy vậy, không phải toàn bộ các bài nói chuyện TED Talk đều phổ biến như nhau. Những bài nói chuyện được chia sẻ bởi các học giả có xu hướng được xem trực tuyến nhiều hơn, trong khi các video nghệ thuật và thiết kế có xu hướng được theo dõi ít hơn mức trung bình.\n",
    "\n",
    "[*Source*](https://vi.wikipedia.org/wiki/TED_(h%E1%BB%99i_th%E1%BA%A3o))"
   ]
  },
  {
   "cell_type": "markdown",
   "metadata": {},
   "source": [
    "# IMPORT LIBRARY"
   ]
  },
  {
   "cell_type": "code",
   "execution_count": 1,
   "metadata": {},
   "outputs": [],
   "source": [
    "import pandas as pd\n",
    "import numpy as np\n",
    "import matplotlib.pyplot as plt\n",
    "import seaborn as sns\n",
    "import datetime"
   ]
  },
  {
   "cell_type": "markdown",
   "metadata": {},
   "source": [
    "# DISCOVERING AND PREPROCESSING DATA"
   ]
  },
  {
   "cell_type": "markdown",
   "metadata": {},
   "source": [
    "## DISCOVERING DATA"
   ]
  },
  {
   "cell_type": "code",
   "execution_count": 2,
   "metadata": {},
   "outputs": [
    {
     "data": {
      "text/html": [
       "<div>\n",
       "<style scoped>\n",
       "    .dataframe tbody tr th:only-of-type {\n",
       "        vertical-align: middle;\n",
       "    }\n",
       "\n",
       "    .dataframe tbody tr th {\n",
       "        vertical-align: top;\n",
       "    }\n",
       "\n",
       "    .dataframe thead th {\n",
       "        text-align: right;\n",
       "    }\n",
       "</style>\n",
       "<table border=\"1\" class=\"dataframe\">\n",
       "  <thead>\n",
       "    <tr style=\"text-align: right;\">\n",
       "      <th></th>\n",
       "      <th>comments</th>\n",
       "      <th>description</th>\n",
       "      <th>duration</th>\n",
       "      <th>event</th>\n",
       "      <th>film_date</th>\n",
       "      <th>languages</th>\n",
       "      <th>main_speaker</th>\n",
       "      <th>name</th>\n",
       "      <th>num_speaker</th>\n",
       "      <th>published_date</th>\n",
       "      <th>ratings</th>\n",
       "      <th>related_talks</th>\n",
       "      <th>speaker_occupation</th>\n",
       "      <th>tags</th>\n",
       "      <th>title</th>\n",
       "      <th>url</th>\n",
       "      <th>views</th>\n",
       "    </tr>\n",
       "  </thead>\n",
       "  <tbody>\n",
       "    <tr>\n",
       "      <th>1778</th>\n",
       "      <td>37</td>\n",
       "      <td>Biologist Sara Lewis has spent the past 20 yea...</td>\n",
       "      <td>831</td>\n",
       "      <td>TED2014</td>\n",
       "      <td>1395273600</td>\n",
       "      <td>27</td>\n",
       "      <td>Sara Lewis</td>\n",
       "      <td>Sara Lewis: The loves and lies of fireflies</td>\n",
       "      <td>1</td>\n",
       "      <td>1404226580</td>\n",
       "      <td>[{'id': 8, 'name': 'Informative', 'count': 283...</td>\n",
       "      <td>[{'id': 145, 'hero': 'https://pe.tedcdn.com/im...</td>\n",
       "      <td>Firefly specialist</td>\n",
       "      <td>['biology', 'evolution', 'insects']</td>\n",
       "      <td>The loves and lies of fireflies</td>\n",
       "      <td>https://www.ted.com/talks/sara_lewis_the_loves...</td>\n",
       "      <td>967667</td>\n",
       "    </tr>\n",
       "    <tr>\n",
       "      <th>772</th>\n",
       "      <td>40</td>\n",
       "      <td>In sub-Saharan Africa, HIV infections are more...</td>\n",
       "      <td>1110</td>\n",
       "      <td>TEDGlobal 2010</td>\n",
       "      <td>1279152000</td>\n",
       "      <td>21</td>\n",
       "      <td>Mitchell Besser</td>\n",
       "      <td>Mitchell Besser: Mothers helping mothers fight...</td>\n",
       "      <td>1</td>\n",
       "      <td>1285145640</td>\n",
       "      <td>[{'id': 1, 'name': 'Beautiful', 'count': 19}, ...</td>\n",
       "      <td>[{'id': 540, 'hero': 'https://pe.tedcdn.com/im...</td>\n",
       "      <td>HIV/AIDS fighter</td>\n",
       "      <td>['AIDS', 'Africa', 'community', 'health', 'hea...</td>\n",
       "      <td>Mothers helping mothers fight HIV</td>\n",
       "      <td>https://www.ted.com/talks/mitchell_besser_moth...</td>\n",
       "      <td>235221</td>\n",
       "    </tr>\n",
       "    <tr>\n",
       "      <th>36</th>\n",
       "      <td>67</td>\n",
       "      <td>Ashraf Ghani's passionate and powerful 10-minu...</td>\n",
       "      <td>1125</td>\n",
       "      <td>TEDGlobal 2005</td>\n",
       "      <td>1121126400</td>\n",
       "      <td>24</td>\n",
       "      <td>Ashraf Ghani</td>\n",
       "      <td>Ashraf Ghani: How to rebuild a broken state</td>\n",
       "      <td>1</td>\n",
       "      <td>1161130260</td>\n",
       "      <td>[{'id': 3, 'name': 'Courageous', 'count': 139}...</td>\n",
       "      <td>[{'id': 127, 'hero': 'https://pe.tedcdn.com/im...</td>\n",
       "      <td>President-elect of Afghanistan</td>\n",
       "      <td>['business', 'corruption', 'culture', 'economi...</td>\n",
       "      <td>How to rebuild a broken state</td>\n",
       "      <td>https://www.ted.com/talks/ashraf_ghani_on_rebu...</td>\n",
       "      <td>809226</td>\n",
       "    </tr>\n",
       "    <tr>\n",
       "      <th>2408</th>\n",
       "      <td>37</td>\n",
       "      <td>What happens when a mall falls into ruin? Film...</td>\n",
       "      <td>713</td>\n",
       "      <td>TEDxMidAtlantic</td>\n",
       "      <td>1477008000</td>\n",
       "      <td>15</td>\n",
       "      <td>Dan Bell</td>\n",
       "      <td>Dan Bell: Inside America's dead shopping malls</td>\n",
       "      <td>1</td>\n",
       "      <td>1489765906</td>\n",
       "      <td>[{'id': 1, 'name': 'Beautiful', 'count': 83}, ...</td>\n",
       "      <td>[{'id': 2572, 'hero': 'https://pe.tedcdn.com/i...</td>\n",
       "      <td>Filmmaker</td>\n",
       "      <td>['TEDx', 'art', 'capitalism', 'community', 'ex...</td>\n",
       "      <td>Inside America's dead shopping malls</td>\n",
       "      <td>https://www.ted.com/talks/dan_bell_inside_amer...</td>\n",
       "      <td>1707855</td>\n",
       "    </tr>\n",
       "    <tr>\n",
       "      <th>770</th>\n",
       "      <td>209</td>\n",
       "      <td>Christien Meindertsma, author of \"Pig 05049\" l...</td>\n",
       "      <td>534</td>\n",
       "      <td>TEDGlobal 2010</td>\n",
       "      <td>1278633600</td>\n",
       "      <td>30</td>\n",
       "      <td>Christien Meindertsma</td>\n",
       "      <td>Christien Meindertsma: How pig parts make the ...</td>\n",
       "      <td>1</td>\n",
       "      <td>1284972180</td>\n",
       "      <td>[{'id': 8, 'name': 'Informative', 'count': 605...</td>\n",
       "      <td>[{'id': 214, 'hero': 'https://pe.tedcdn.com/im...</td>\n",
       "      <td>Artist</td>\n",
       "      <td>['books', 'business', 'consumerism', 'design',...</td>\n",
       "      <td>How pig parts make the world turn</td>\n",
       "      <td>https://www.ted.com/talks/christien_meindertsm...</td>\n",
       "      <td>1157394</td>\n",
       "    </tr>\n",
       "    <tr>\n",
       "      <th>91</th>\n",
       "      <td>58</td>\n",
       "      <td>The dot-com boom and bust is often compared to...</td>\n",
       "      <td>1031</td>\n",
       "      <td>TED2003</td>\n",
       "      <td>1044144000</td>\n",
       "      <td>22</td>\n",
       "      <td>Jeff Bezos</td>\n",
       "      <td>Jeff Bezos: The electricity metaphor for the w...</td>\n",
       "      <td>1</td>\n",
       "      <td>1176162180</td>\n",
       "      <td>[{'id': 11, 'name': 'Longwinded', 'count': 83}...</td>\n",
       "      <td>[{'id': 319, 'hero': 'https://pe.tedcdn.com/im...</td>\n",
       "      <td>Online commerce pioneer</td>\n",
       "      <td>['TED Brain Trust', 'United States', 'business...</td>\n",
       "      <td>The electricity metaphor for the web's future</td>\n",
       "      <td>https://www.ted.com/talks/jeff_bezos_on_the_ne...</td>\n",
       "      <td>754700</td>\n",
       "    </tr>\n",
       "    <tr>\n",
       "      <th>203</th>\n",
       "      <td>231</td>\n",
       "      <td>Accepting his 2008 TED Prize, author Dave Egge...</td>\n",
       "      <td>1535</td>\n",
       "      <td>TED2008</td>\n",
       "      <td>1204156800</td>\n",
       "      <td>32</td>\n",
       "      <td>Dave Eggers</td>\n",
       "      <td>Dave Eggers: My wish: Once Upon a School</td>\n",
       "      <td>1</td>\n",
       "      <td>1205805540</td>\n",
       "      <td>[{'id': 9, 'name': 'Ingenious', 'count': 452},...</td>\n",
       "      <td>[{'id': 66, 'hero': 'https://pe.tedcdn.com/ima...</td>\n",
       "      <td>Author, publisher, education activist</td>\n",
       "      <td>['TED Prize', 'activism', 'children', 'collabo...</td>\n",
       "      <td>My wish: Once Upon a School</td>\n",
       "      <td>https://www.ted.com/talks/dave_eggers_makes_hi...</td>\n",
       "      <td>1357888</td>\n",
       "    </tr>\n",
       "    <tr>\n",
       "      <th>1659</th>\n",
       "      <td>157</td>\n",
       "      <td>Sheryl Sandberg admits she was terrified to st...</td>\n",
       "      <td>1016</td>\n",
       "      <td>TEDWomen 2013</td>\n",
       "      <td>1386201600</td>\n",
       "      <td>29</td>\n",
       "      <td>Sheryl Sandberg</td>\n",
       "      <td>Sheryl Sandberg: So we leaned in ... now what?</td>\n",
       "      <td>1</td>\n",
       "      <td>1389801677</td>\n",
       "      <td>[{'id': 10, 'name': 'Inspiring', 'count': 453}...</td>\n",
       "      <td>[{'id': 1040, 'hero': 'https://pe.tedcdn.com/i...</td>\n",
       "      <td>COO, Facebook</td>\n",
       "      <td>['Gender equality', 'feminism', 'leadership', ...</td>\n",
       "      <td>So we leaned in ... now what?</td>\n",
       "      <td>https://www.ted.com/talks/sheryl_sandberg_so_w...</td>\n",
       "      <td>2133100</td>\n",
       "    </tr>\n",
       "    <tr>\n",
       "      <th>620</th>\n",
       "      <td>277</td>\n",
       "      <td>The land of the free has become a legal minefi...</td>\n",
       "      <td>1101</td>\n",
       "      <td>TED2010</td>\n",
       "      <td>1266019200</td>\n",
       "      <td>24</td>\n",
       "      <td>Philip K. Howard</td>\n",
       "      <td>Philip K. Howard: Four ways to fix a broken le...</td>\n",
       "      <td>1</td>\n",
       "      <td>1266743700</td>\n",
       "      <td>[{'id': 23, 'name': 'Jaw-dropping', 'count': 1...</td>\n",
       "      <td>[{'id': 187, 'hero': 'https://pe.tedcdn.com/im...</td>\n",
       "      <td>Legal activist</td>\n",
       "      <td>['business', 'design', 'health care', 'law']</td>\n",
       "      <td>Four ways to fix a broken legal system</td>\n",
       "      <td>https://www.ted.com/talks/philip_howard\\n</td>\n",
       "      <td>610454</td>\n",
       "    </tr>\n",
       "    <tr>\n",
       "      <th>923</th>\n",
       "      <td>236</td>\n",
       "      <td>Software developer Mike Matas demos the first ...</td>\n",
       "      <td>274</td>\n",
       "      <td>TED2011</td>\n",
       "      <td>1299024000</td>\n",
       "      <td>47</td>\n",
       "      <td>Mike Matas</td>\n",
       "      <td>Mike Matas: A next-generation digital book</td>\n",
       "      <td>1</td>\n",
       "      <td>1304001240</td>\n",
       "      <td>[{'id': 25, 'name': 'OK', 'count': 132}, {'id'...</td>\n",
       "      <td>[{'id': 1, 'hero': 'https://pe.tedcdn.com/imag...</td>\n",
       "      <td>Software engineer</td>\n",
       "      <td>['demo', 'design', 'entertainment', 'software'...</td>\n",
       "      <td>A next-generation digital book</td>\n",
       "      <td>https://www.ted.com/talks/mike_matas\\n</td>\n",
       "      <td>1507048</td>\n",
       "    </tr>\n",
       "  </tbody>\n",
       "</table>\n",
       "</div>"
      ],
      "text/plain": [
       "      comments                                        description  duration  \\\n",
       "1778        37  Biologist Sara Lewis has spent the past 20 yea...       831   \n",
       "772         40  In sub-Saharan Africa, HIV infections are more...      1110   \n",
       "36          67  Ashraf Ghani's passionate and powerful 10-minu...      1125   \n",
       "2408        37  What happens when a mall falls into ruin? Film...       713   \n",
       "770        209  Christien Meindertsma, author of \"Pig 05049\" l...       534   \n",
       "91          58  The dot-com boom and bust is often compared to...      1031   \n",
       "203        231  Accepting his 2008 TED Prize, author Dave Egge...      1535   \n",
       "1659       157  Sheryl Sandberg admits she was terrified to st...      1016   \n",
       "620        277  The land of the free has become a legal minefi...      1101   \n",
       "923        236  Software developer Mike Matas demos the first ...       274   \n",
       "\n",
       "                event   film_date  languages           main_speaker  \\\n",
       "1778          TED2014  1395273600         27             Sara Lewis   \n",
       "772    TEDGlobal 2010  1279152000         21        Mitchell Besser   \n",
       "36     TEDGlobal 2005  1121126400         24           Ashraf Ghani   \n",
       "2408  TEDxMidAtlantic  1477008000         15               Dan Bell   \n",
       "770    TEDGlobal 2010  1278633600         30  Christien Meindertsma   \n",
       "91            TED2003  1044144000         22             Jeff Bezos   \n",
       "203           TED2008  1204156800         32            Dave Eggers   \n",
       "1659    TEDWomen 2013  1386201600         29        Sheryl Sandberg   \n",
       "620           TED2010  1266019200         24       Philip K. Howard   \n",
       "923           TED2011  1299024000         47             Mike Matas   \n",
       "\n",
       "                                                   name  num_speaker  \\\n",
       "1778        Sara Lewis: The loves and lies of fireflies            1   \n",
       "772   Mitchell Besser: Mothers helping mothers fight...            1   \n",
       "36          Ashraf Ghani: How to rebuild a broken state            1   \n",
       "2408     Dan Bell: Inside America's dead shopping malls            1   \n",
       "770   Christien Meindertsma: How pig parts make the ...            1   \n",
       "91    Jeff Bezos: The electricity metaphor for the w...            1   \n",
       "203            Dave Eggers: My wish: Once Upon a School            1   \n",
       "1659     Sheryl Sandberg: So we leaned in ... now what?            1   \n",
       "620   Philip K. Howard: Four ways to fix a broken le...            1   \n",
       "923          Mike Matas: A next-generation digital book            1   \n",
       "\n",
       "      published_date                                            ratings  \\\n",
       "1778      1404226580  [{'id': 8, 'name': 'Informative', 'count': 283...   \n",
       "772       1285145640  [{'id': 1, 'name': 'Beautiful', 'count': 19}, ...   \n",
       "36        1161130260  [{'id': 3, 'name': 'Courageous', 'count': 139}...   \n",
       "2408      1489765906  [{'id': 1, 'name': 'Beautiful', 'count': 83}, ...   \n",
       "770       1284972180  [{'id': 8, 'name': 'Informative', 'count': 605...   \n",
       "91        1176162180  [{'id': 11, 'name': 'Longwinded', 'count': 83}...   \n",
       "203       1205805540  [{'id': 9, 'name': 'Ingenious', 'count': 452},...   \n",
       "1659      1389801677  [{'id': 10, 'name': 'Inspiring', 'count': 453}...   \n",
       "620       1266743700  [{'id': 23, 'name': 'Jaw-dropping', 'count': 1...   \n",
       "923       1304001240  [{'id': 25, 'name': 'OK', 'count': 132}, {'id'...   \n",
       "\n",
       "                                          related_talks  \\\n",
       "1778  [{'id': 145, 'hero': 'https://pe.tedcdn.com/im...   \n",
       "772   [{'id': 540, 'hero': 'https://pe.tedcdn.com/im...   \n",
       "36    [{'id': 127, 'hero': 'https://pe.tedcdn.com/im...   \n",
       "2408  [{'id': 2572, 'hero': 'https://pe.tedcdn.com/i...   \n",
       "770   [{'id': 214, 'hero': 'https://pe.tedcdn.com/im...   \n",
       "91    [{'id': 319, 'hero': 'https://pe.tedcdn.com/im...   \n",
       "203   [{'id': 66, 'hero': 'https://pe.tedcdn.com/ima...   \n",
       "1659  [{'id': 1040, 'hero': 'https://pe.tedcdn.com/i...   \n",
       "620   [{'id': 187, 'hero': 'https://pe.tedcdn.com/im...   \n",
       "923   [{'id': 1, 'hero': 'https://pe.tedcdn.com/imag...   \n",
       "\n",
       "                         speaker_occupation  \\\n",
       "1778                     Firefly specialist   \n",
       "772                        HIV/AIDS fighter   \n",
       "36           President-elect of Afghanistan   \n",
       "2408                              Filmmaker   \n",
       "770                                  Artist   \n",
       "91                  Online commerce pioneer   \n",
       "203   Author, publisher, education activist   \n",
       "1659                          COO, Facebook   \n",
       "620                          Legal activist   \n",
       "923                       Software engineer   \n",
       "\n",
       "                                                   tags  \\\n",
       "1778                ['biology', 'evolution', 'insects']   \n",
       "772   ['AIDS', 'Africa', 'community', 'health', 'hea...   \n",
       "36    ['business', 'corruption', 'culture', 'economi...   \n",
       "2408  ['TEDx', 'art', 'capitalism', 'community', 'ex...   \n",
       "770   ['books', 'business', 'consumerism', 'design',...   \n",
       "91    ['TED Brain Trust', 'United States', 'business...   \n",
       "203   ['TED Prize', 'activism', 'children', 'collabo...   \n",
       "1659  ['Gender equality', 'feminism', 'leadership', ...   \n",
       "620        ['business', 'design', 'health care', 'law']   \n",
       "923   ['demo', 'design', 'entertainment', 'software'...   \n",
       "\n",
       "                                              title  \\\n",
       "1778                The loves and lies of fireflies   \n",
       "772               Mothers helping mothers fight HIV   \n",
       "36                    How to rebuild a broken state   \n",
       "2408           Inside America's dead shopping malls   \n",
       "770               How pig parts make the world turn   \n",
       "91    The electricity metaphor for the web's future   \n",
       "203                     My wish: Once Upon a School   \n",
       "1659                  So we leaned in ... now what?   \n",
       "620          Four ways to fix a broken legal system   \n",
       "923                  A next-generation digital book   \n",
       "\n",
       "                                                    url    views  \n",
       "1778  https://www.ted.com/talks/sara_lewis_the_loves...   967667  \n",
       "772   https://www.ted.com/talks/mitchell_besser_moth...   235221  \n",
       "36    https://www.ted.com/talks/ashraf_ghani_on_rebu...   809226  \n",
       "2408  https://www.ted.com/talks/dan_bell_inside_amer...  1707855  \n",
       "770   https://www.ted.com/talks/christien_meindertsm...  1157394  \n",
       "91    https://www.ted.com/talks/jeff_bezos_on_the_ne...   754700  \n",
       "203   https://www.ted.com/talks/dave_eggers_makes_hi...  1357888  \n",
       "1659  https://www.ted.com/talks/sheryl_sandberg_so_w...  2133100  \n",
       "620           https://www.ted.com/talks/philip_howard\\n   610454  \n",
       "923              https://www.ted.com/talks/mike_matas\\n  1507048  "
      ]
     },
     "execution_count": 2,
     "metadata": {},
     "output_type": "execute_result"
    }
   ],
   "source": [
    "# Đọc file dữ liệu vào\n",
    "ted = pd.read_csv('ted_main.csv')\n",
    "# Xem (random rows của dữ liệu) để cảm nhận rõ hơn\n",
    "ted.sample(10)"
   ]
  },
  {
   "cell_type": "markdown",
   "metadata": {},
   "source": [
    "Có hơn 2550 bài nói chuyện. Những điều này đại diện cho tất cả các cuộc đàm phán đã từng được đăng trên Nền tảng TED cho đến ngày 21 tháng 9 năm 2017 và có các cuộc đàm phán được quay trong khoảng thời gian từ năm 1994 đến năm 2017. Đã hơn hai thập kỷ vinh quang của TED."
   ]
  },
  {
   "cell_type": "code",
   "execution_count": 3,
   "metadata": {},
   "outputs": [
    {
     "data": {
      "text/plain": [
       "comments               int64\n",
       "description           object\n",
       "duration               int64\n",
       "event                 object\n",
       "film_date              int64\n",
       "languages              int64\n",
       "main_speaker          object\n",
       "name                  object\n",
       "num_speaker            int64\n",
       "published_date         int64\n",
       "ratings               object\n",
       "related_talks         object\n",
       "speaker_occupation    object\n",
       "tags                  object\n",
       "title                 object\n",
       "url                   object\n",
       "views                  int64\n",
       "dtype: object"
      ]
     },
     "execution_count": 3,
     "metadata": {},
     "output_type": "execute_result"
    }
   ],
   "source": [
    "# Bên cạnh đó, cũng cần phải xem loại dữ liệu được lưu ở kiểu nào\n",
    "ted.dtypes"
   ]
  },
  {
   "cell_type": "code",
   "execution_count": 4,
   "metadata": {},
   "outputs": [
    {
     "data": {
      "text/plain": [
       "(2550, 17)"
      ]
     },
     "execution_count": 4,
     "metadata": {},
     "output_type": "execute_result"
    }
   ],
   "source": [
    "# Xem số dòng, số cột\n",
    "ted.shape"
   ]
  },
  {
   "cell_type": "code",
   "execution_count": 5,
   "metadata": {},
   "outputs": [
    {
     "name": "stdout",
     "output_type": "stream",
     "text": [
      "<class 'pandas.core.frame.DataFrame'>\n",
      "RangeIndex: 2550 entries, 0 to 2549\n",
      "Data columns (total 17 columns):\n",
      " #   Column              Non-Null Count  Dtype \n",
      "---  ------              --------------  ----- \n",
      " 0   comments            2550 non-null   int64 \n",
      " 1   description         2550 non-null   object\n",
      " 2   duration            2550 non-null   int64 \n",
      " 3   event               2550 non-null   object\n",
      " 4   film_date           2550 non-null   int64 \n",
      " 5   languages           2550 non-null   int64 \n",
      " 6   main_speaker        2550 non-null   object\n",
      " 7   name                2550 non-null   object\n",
      " 8   num_speaker         2550 non-null   int64 \n",
      " 9   published_date      2550 non-null   int64 \n",
      " 10  ratings             2550 non-null   object\n",
      " 11  related_talks       2550 non-null   object\n",
      " 12  speaker_occupation  2544 non-null   object\n",
      " 13  tags                2550 non-null   object\n",
      " 14  title               2550 non-null   object\n",
      " 15  url                 2550 non-null   object\n",
      " 16  views               2550 non-null   int64 \n",
      "dtypes: int64(7), object(10)\n",
      "memory usage: 338.8+ KB\n"
     ]
    }
   ],
   "source": [
    "# Xem thông tin của dữ liệu\n",
    "ted.info()"
   ]
  },
  {
   "cell_type": "code",
   "execution_count": 6,
   "metadata": {},
   "outputs": [
    {
     "data": {
      "text/plain": [
       "comments              0\n",
       "description           0\n",
       "duration              0\n",
       "event                 0\n",
       "film_date             0\n",
       "languages             0\n",
       "main_speaker          0\n",
       "name                  0\n",
       "num_speaker           0\n",
       "published_date        0\n",
       "ratings               0\n",
       "related_talks         0\n",
       "speaker_occupation    6\n",
       "tags                  0\n",
       "title                 0\n",
       "url                   0\n",
       "views                 0\n",
       "dtype: int64"
      ]
     },
     "execution_count": 6,
     "metadata": {},
     "output_type": "execute_result"
    }
   ],
   "source": [
    "# Kiểm tra dữ liệu NA\n",
    "ted.isna().sum()"
   ]
  },
  {
   "cell_type": "markdown",
   "metadata": {},
   "source": [
    "## PREPROCESSING DATA\n",
    "- Trong quá trình khám phá dữ liệu, việc quan trọng nhất sau khi tìm hiểu thông tin sơ bộ của dữ liệu thì ta cần phải xử lý các loại dữ liệu bị thiếu. Sau bước `ted.info()` và `ted.isna().sum()` thì ta thấy colum speaker_occupation chỉ có 2544 rows trong khi những colums khác là 2550. Vậy ta cần fill lại như sau:"
   ]
  },
  {
   "cell_type": "code",
   "execution_count": 7,
   "metadata": {},
   "outputs": [],
   "source": [
    "# Fill missing values\n",
    "# Có 2 TH fill:\n",
    "#              1. Missing values là numeric => fill bằng mean\n",
    "#              2. Missing values là object => fill bằng mode\n",
    "ted['speaker_occupation'] = ted.speaker_occupation.fillna(ted.speaker_occupation.mode()[0])"
   ]
  },
  {
   "cell_type": "code",
   "execution_count": 8,
   "metadata": {},
   "outputs": [
    {
     "data": {
      "text/plain": [
       "comments              0\n",
       "description           0\n",
       "duration              0\n",
       "event                 0\n",
       "film_date             0\n",
       "languages             0\n",
       "main_speaker          0\n",
       "name                  0\n",
       "num_speaker           0\n",
       "published_date        0\n",
       "ratings               0\n",
       "related_talks         0\n",
       "speaker_occupation    0\n",
       "tags                  0\n",
       "title                 0\n",
       "url                   0\n",
       "views                 0\n",
       "dtype: int64"
      ]
     },
     "execution_count": 8,
     "metadata": {},
     "output_type": "execute_result"
    }
   ],
   "source": [
    "# Kiểm tra lại sau khi fill missing values\n",
    "ted.isna().sum()"
   ]
  },
  {
   "cell_type": "markdown",
   "metadata": {},
   "source": [
    "- Ngoài ra, sau bước `ted.head()`, có 2 colums `film_date` và `published_date` đang không đúng kiểu hiển thị datetime, nên ta sẽ chuyển sang [kiểu datetime](https://docs.python.org/3/library/datetime.html) tiện xử lý. "
   ]
  },
  {
   "cell_type": "code",
   "execution_count": 9,
   "metadata": {},
   "outputs": [],
   "source": [
    "# Chuyển đổi datetime cho film_date và published_date\n",
    "ted['film_date'] = ted['film_date'].apply(lambda x: datetime.datetime.fromtimestamp(int(x)).strftime('%d-%m-%Y'))\n",
    "ted['published_date'] = ted['published_date'].apply(lambda x: datetime.datetime.fromtimestamp( int(x)).strftime('%d-%m-%Y'))"
   ]
  },
  {
   "cell_type": "code",
   "execution_count": 10,
   "metadata": {},
   "outputs": [
    {
     "data": {
      "text/plain": [
       "0       27-06-2006\n",
       "1       27-06-2006\n",
       "2       27-06-2006\n",
       "3       27-06-2006\n",
       "4       28-06-2006\n",
       "           ...    \n",
       "2545    20-09-2017\n",
       "2546    20-09-2017\n",
       "2547    21-09-2017\n",
       "2548    22-09-2017\n",
       "2549    22-09-2017\n",
       "Name: published_date, Length: 2550, dtype: object"
      ]
     },
     "execution_count": 10,
     "metadata": {},
     "output_type": "execute_result"
    }
   ],
   "source": [
    "# Kiểm tra lại\n",
    "ted['film_date']\n",
    "ted['published_date']"
   ]
  },
  {
   "cell_type": "markdown",
   "metadata": {},
   "source": [
    "## DESCRIBE FEATURES\n",
    "- `name`: Tên chính thức của ted talk (bao gồm tiêu đề và người nói).\n",
    "- `title`: Tên của talks\n",
    "- `description`: Vài nét về nội dung cuộc nói chuyện.\n",
    "- `main_speaker`: Speakers chính\n",
    "- `speaker_occupation`: Nghề nghiệp của speakers.\n",
    "- `num_speaker`: SL speakers.\n",
    "- `duration`: Thời lượng của talk (tính trên đơn vị giây).\n",
    "- `event`: Nơi tổ chức TED/TEDx event.\n",
    "- `film_date`: \n",
    "- `published_date`: Ngày up talks lên (Unix timestamps).\n",
    "- `comments`: SL comments.\n",
    "- `tags`: Các chủ đề (theme) liên quan đến các talks (vd: science, physics, math, ...).\n",
    "- `languages`: Số lượng ngôn ngữ được translate của các talks.\n",
    "- `ratings`: Xếp hạng ratings của các talks.\n",
    "- `related_talks`: Danh sách từ điển các talks được đề xuất để xem tiếp theo.\n",
    "- `url`: Link URL gắn với video talk đó.\n",
    "- `views`: Lượt views của các talks."
   ]
  },
  {
   "cell_type": "markdown",
   "metadata": {},
   "source": [
    "# DATA ANALYSIS"
   ]
  },
  {
   "cell_type": "markdown",
   "metadata": {},
   "source": [
    "## MOST VIEW TALKS\n",
    "<img src=\"https://www.upsieutoc.com/images/2020/08/13/top10views.png\" alt=\"Parrondo\" border=\"0\">"
   ]
  },
  {
   "cell_type": "code",
   "execution_count": 11,
   "metadata": {},
   "outputs": [
    {
     "data": {
      "text/html": [
       "<div>\n",
       "<style scoped>\n",
       "    .dataframe tbody tr th:only-of-type {\n",
       "        vertical-align: middle;\n",
       "    }\n",
       "\n",
       "    .dataframe tbody tr th {\n",
       "        vertical-align: top;\n",
       "    }\n",
       "\n",
       "    .dataframe thead th {\n",
       "        text-align: right;\n",
       "    }\n",
       "</style>\n",
       "<table border=\"1\" class=\"dataframe\">\n",
       "  <thead>\n",
       "    <tr style=\"text-align: right;\">\n",
       "      <th></th>\n",
       "      <th>title</th>\n",
       "      <th>main_speaker</th>\n",
       "      <th>views</th>\n",
       "      <th>film_date</th>\n",
       "    </tr>\n",
       "  </thead>\n",
       "  <tbody>\n",
       "    <tr>\n",
       "      <th>0</th>\n",
       "      <td>Do schools kill creativity?</td>\n",
       "      <td>Ken Robinson</td>\n",
       "      <td>47227110</td>\n",
       "      <td>25-02-2006</td>\n",
       "    </tr>\n",
       "    <tr>\n",
       "      <th>1346</th>\n",
       "      <td>Your body language may shape who you are</td>\n",
       "      <td>Amy Cuddy</td>\n",
       "      <td>43155405</td>\n",
       "      <td>26-06-2012</td>\n",
       "    </tr>\n",
       "    <tr>\n",
       "      <th>677</th>\n",
       "      <td>How great leaders inspire action</td>\n",
       "      <td>Simon Sinek</td>\n",
       "      <td>34309432</td>\n",
       "      <td>17-09-2009</td>\n",
       "    </tr>\n",
       "    <tr>\n",
       "      <th>837</th>\n",
       "      <td>The power of vulnerability</td>\n",
       "      <td>Brené Brown</td>\n",
       "      <td>31168150</td>\n",
       "      <td>06-06-2010</td>\n",
       "    </tr>\n",
       "    <tr>\n",
       "      <th>452</th>\n",
       "      <td>10 things you didn't know about orgasm</td>\n",
       "      <td>Mary Roach</td>\n",
       "      <td>22270883</td>\n",
       "      <td>06-02-2009</td>\n",
       "    </tr>\n",
       "    <tr>\n",
       "      <th>1776</th>\n",
       "      <td>How to speak so that people want to listen</td>\n",
       "      <td>Julian Treasure</td>\n",
       "      <td>21594632</td>\n",
       "      <td>10-06-2013</td>\n",
       "    </tr>\n",
       "    <tr>\n",
       "      <th>201</th>\n",
       "      <td>My stroke of insight</td>\n",
       "      <td>Jill Bolte Taylor</td>\n",
       "      <td>21190883</td>\n",
       "      <td>27-02-2008</td>\n",
       "    </tr>\n",
       "    <tr>\n",
       "      <th>5</th>\n",
       "      <td>Why we do what we do</td>\n",
       "      <td>Tony Robbins</td>\n",
       "      <td>20685401</td>\n",
       "      <td>02-02-2006</td>\n",
       "    </tr>\n",
       "    <tr>\n",
       "      <th>2114</th>\n",
       "      <td>This is what happens when you reply to spam email</td>\n",
       "      <td>James Veitch</td>\n",
       "      <td>20475972</td>\n",
       "      <td>08-12-2015</td>\n",
       "    </tr>\n",
       "    <tr>\n",
       "      <th>1416</th>\n",
       "      <td>Looks aren't everything. Believe me, I'm a model.</td>\n",
       "      <td>Cameron Russell</td>\n",
       "      <td>19787465</td>\n",
       "      <td>27-10-2012</td>\n",
       "    </tr>\n",
       "  </tbody>\n",
       "</table>\n",
       "</div>"
      ],
      "text/plain": [
       "                                                  title       main_speaker  \\\n",
       "0                           Do schools kill creativity?       Ken Robinson   \n",
       "1346           Your body language may shape who you are          Amy Cuddy   \n",
       "677                    How great leaders inspire action        Simon Sinek   \n",
       "837                          The power of vulnerability        Brené Brown   \n",
       "452              10 things you didn't know about orgasm         Mary Roach   \n",
       "1776         How to speak so that people want to listen    Julian Treasure   \n",
       "201                                My stroke of insight  Jill Bolte Taylor   \n",
       "5                                  Why we do what we do       Tony Robbins   \n",
       "2114  This is what happens when you reply to spam email       James Veitch   \n",
       "1416  Looks aren't everything. Believe me, I'm a model.    Cameron Russell   \n",
       "\n",
       "         views   film_date  \n",
       "0     47227110  25-02-2006  \n",
       "1346  43155405  26-06-2012  \n",
       "677   34309432  17-09-2009  \n",
       "837   31168150  06-06-2010  \n",
       "452   22270883  06-02-2009  \n",
       "1776  21594632  10-06-2013  \n",
       "201   21190883  27-02-2008  \n",
       "5     20685401  02-02-2006  \n",
       "2114  20475972  08-12-2015  \n",
       "1416  19787465  27-10-2012  "
      ]
     },
     "execution_count": 11,
     "metadata": {},
     "output_type": "execute_result"
    }
   ],
   "source": [
    "# Tách dữ liệu để tìm top 10 talks theo 'title', 'main_speaker', 'views', 'film_date'\n",
    "# sau đó sort theo chiều giảm dần và lấy 10 dòng đầu => top 10\n",
    "top10_talks = ted[['title', 'main_speaker', 'views', 'film_date']].sort_values('views', ascending=False)[:10]\n",
    "top10_talks"
   ]
  },
  {
   "cell_type": "code",
   "execution_count": 12,
   "metadata": {},
   "outputs": [
    {
     "data": {
      "image/png": "[encoded data removed]",
      "text/plain": [
       "<Figure size 720x432 with 1 Axes>"
      ]
     },
     "metadata": {
      "needs_background": "light"
     },
     "output_type": "display_data"
    }
   ],
   "source": [
    "# Vẽ biểu đồ\n",
    "# Gọi hàm bar chart\n",
    "f, ax = plt.subplots(figsize = (10,6))\n",
    "plt.barh(top10_talks['title'], top10_talks['views'], \n",
    "         color = ['blue', 'g', 'r', 'c', 'm', 'y', 'grey', 'black', 'brown', 'pink'], alpha = 0.5)\n",
    "# Gán nhãn trục x\n",
    "plt.xlabel('Views', size = 13)\n",
    "plt.title('TOP 10 MOST VIEWS', size = 15)\n",
    "plt.show();"
   ]
  },
  {
   "cell_type": "markdown",
   "metadata": {},
   "source": [
    "- Ta thấy, trong số 10 talks có lượt views cao nhất, có 2 talks đạt trên ngưỡng 40 triệu lượt *(Your body language may shape who you are, Do school kill creativity)*, 2 talks đạt trên ngưỡng 30 triệu lượt *(The power of vilnerability, How great leaders inspire action)* và 6 talks còn lại từ ngưỡng 20 triệu.\n",
    "- Xem xét kĩ hơn, talks *Do school kill creativity* của speaker *Ken Robinson* đạt lượt views cao nhất và năm publish talks này là vào 2006, tức là một trong những bài nói chuyện đầu tiên được đăng tải trên Trang web TED (tập dữ liệu chính được sắp xếp theo ngày xuất bản)\n",
    "- Ngoài ra. talks *Why do what we do* của speaker *Tony Robbins* cũng được publish vào 2006 (năm đầu tiên khởi xướng TED) cũng lọt trong top 10."
   ]
  },
  {
   "cell_type": "markdown",
   "metadata": {},
   "source": [
    "# HISTOGRAM AND DISTPLOT"
   ]
  },
  {
   "cell_type": "markdown",
   "metadata": {},
   "source": [
    "Trước khi vẽ histogram và displot để biểu thị rõ các giá trị, em sẽ vẽ một biểu đồ heatmap để xem xét mức độ tương quan của các features với nhau. Từ đó định hướng được mức vẽ cho histogram và displot."
   ]
  },
  {
   "cell_type": "code",
   "execution_count": 80,
   "metadata": {},
   "outputs": [
    {
     "data": {
      "text/plain": [
       "<matplotlib.axes._subplots.AxesSubplot at 0x13b6babbdc8>"
      ]
     },
     "execution_count": 80,
     "metadata": {},
     "output_type": "execute_result"
    },
    {
     "data": {
      "image/png": "[encoded data removed]",
      "text/plain": [
       "<Figure size 864x720 with 2 Axes>"
      ]
     },
     "metadata": {
      "needs_background": "light"
     },
     "output_type": "display_data"
    }
   ],
   "source": [
    "plt.figure(figsize=(12, 10))\n",
    "sns.heatmap(ted.corr(), annot = True)"
   ]
  },
  {
   "cell_type": "code",
   "execution_count": 82,
   "metadata": {},
   "outputs": [
    {
     "data": {
      "text/html": [
       "<div>\n",
       "<style scoped>\n",
       "    .dataframe tbody tr th:only-of-type {\n",
       "        vertical-align: middle;\n",
       "    }\n",
       "\n",
       "    .dataframe tbody tr th {\n",
       "        vertical-align: top;\n",
       "    }\n",
       "\n",
       "    .dataframe thead th {\n",
       "        text-align: right;\n",
       "    }\n",
       "</style>\n",
       "<table border=\"1\" class=\"dataframe\">\n",
       "  <thead>\n",
       "    <tr style=\"text-align: right;\">\n",
       "      <th></th>\n",
       "      <th>views</th>\n",
       "      <th>comments</th>\n",
       "      <th>languages</th>\n",
       "    </tr>\n",
       "  </thead>\n",
       "  <tbody>\n",
       "    <tr>\n",
       "      <th>views</th>\n",
       "      <td>1.000000</td>\n",
       "      <td>0.530939</td>\n",
       "      <td>0.377623</td>\n",
       "    </tr>\n",
       "    <tr>\n",
       "      <th>comments</th>\n",
       "      <td>0.530939</td>\n",
       "      <td>1.000000</td>\n",
       "      <td>0.318284</td>\n",
       "    </tr>\n",
       "    <tr>\n",
       "      <th>languages</th>\n",
       "      <td>0.377623</td>\n",
       "      <td>0.318284</td>\n",
       "      <td>1.000000</td>\n",
       "    </tr>\n",
       "  </tbody>\n",
       "</table>\n",
       "</div>"
      ],
      "text/plain": [
       "              views  comments  languages\n",
       "views      1.000000  0.530939   0.377623\n",
       "comments   0.530939  1.000000   0.318284\n",
       "languages  0.377623  0.318284   1.000000"
      ]
     },
     "execution_count": 82,
     "metadata": {},
     "output_type": "execute_result"
    }
   ],
   "source": [
    "ted[['views', 'comments', 'languages']].corr()"
   ]
  },
  {
   "cell_type": "markdown",
   "metadata": {},
   "source": [
    "Từ heatmap có thể thấy được, lượng views có tương quan mạnh mẽ nhất đến comments và sau đó là languages => nghĩa là những talks nào có views càng cao, sẽ càng nhận được nhiều lượt comments và được translate sang nhiều loại ngôn ngữ. Hoặc cũng có thể nói, do được translate càng nhiều loại ngôn ngữ nên kéo đến việc tăng views và comments, ..."
   ]
  },
  {
   "cell_type": "code",
   "execution_count": 36,
   "metadata": {},
   "outputs": [
    {
     "data": {
      "image/png": "[encoded data removed]",
      "text/plain": [
       "<Figure size 432x288 with 1 Axes>"
      ]
     },
     "metadata": {
      "needs_background": "light"
     },
     "output_type": "display_data"
    }
   ],
   "source": [
    "#f, ax = plt.subplots(figsize=(10,8))\n",
    "sns.distplot(ted['views'], color = 'b')\n",
    "plt.xlabel('Views', size = 12)\n",
    "plt.title('DISPLOT OF VIEWS', size = 15);"
   ]
  },
  {
   "cell_type": "code",
   "execution_count": 61,
   "metadata": {},
   "outputs": [
    {
     "data": {
      "text/plain": [
       "<matplotlib.axes._subplots.AxesSubplot at 0x13b69d99108>"
      ]
     },
     "execution_count": 61,
     "metadata": {},
     "output_type": "execute_result"
    },
    {
     "data": {
      "image/png": "[encoded data removed]",
      "text/plain": [
       "<Figure size 432x288 with 1 Axes>"
      ]
     },
     "metadata": {
      "needs_background": "light"
     },
     "output_type": "display_data"
    }
   ],
   "source": [
    "sns.distplot(ted[ted['views'] < 5e6]['views'], color = 'b')"
   ]
  },
  {
   "cell_type": "code",
   "execution_count": 37,
   "metadata": {
    "scrolled": true
   },
   "outputs": [
    {
     "data": {
      "image/png": "[encoded data removed]",
      "text/plain": [
       "<Figure size 432x288 with 1 Axes>"
      ]
     },
     "metadata": {
      "needs_background": "light"
     },
     "output_type": "display_data"
    }
   ],
   "source": [
    "ted['views'].hist(edgecolor = \"black\", color = 'b')\n",
    "plt.xlabel('Views', size = 12)\n",
    "plt.title('HIST OF VIEWS', size = 15);"
   ]
  },
  {
   "cell_type": "code",
   "execution_count": 55,
   "metadata": {},
   "outputs": [
    {
     "data": {
      "text/plain": [
       "count    2.550000e+03\n",
       "mean     1.698297e+06\n",
       "std      2.498479e+06\n",
       "min      5.044300e+04\n",
       "25%      7.557928e+05\n",
       "50%      1.124524e+06\n",
       "75%      1.700760e+06\n",
       "max      4.722711e+07\n",
       "Name: views, dtype: float64"
      ]
     },
     "execution_count": 55,
     "metadata": {},
     "output_type": "execute_result"
    }
   ],
   "source": [
    "ted['views'].describe()"
   ]
  },
  {
   "cell_type": "markdown",
   "metadata": {},
   "source": [
    "- Số lượt xem trung bình *mean* trên TED Talks là 1,6 ~ 1,7 triệu. \n",
    "- Số lượt xem trung bình *median* là 1,12 triệu \n",
    "=> Mức độ phổ biến trung bình rất cao của TED Talks. \n",
    "- Đa sô các bài nói chuyện có lượt xem dưới 4 triệu. "
   ]
  },
  {
   "cell_type": "code",
   "execution_count": 44,
   "metadata": {},
   "outputs": [
    {
     "data": {
      "image/png": "[encoded data removed]",
      "text/plain": [
       "<Figure size 432x288 with 1 Axes>"
      ]
     },
     "metadata": {
      "needs_background": "light"
     },
     "output_type": "display_data"
    }
   ],
   "source": [
    "#f, ax = plt.subplots(figsize=(10,8))\n",
    "sns.distplot(ted['comments'], color = 'g')\n",
    "plt.xlabel('Comment', size = 12)\n",
    "plt.title('DISPLOT OF COMMENTS', size = 15);"
   ]
  },
  {
   "cell_type": "code",
   "execution_count": 62,
   "metadata": {},
   "outputs": [
    {
     "data": {
      "text/plain": [
       "<matplotlib.axes._subplots.AxesSubplot at 0x13b69639f88>"
      ]
     },
     "execution_count": 62,
     "metadata": {},
     "output_type": "execute_result"
    },
    {
     "data": {
      "image/png": "[encoded data removed]",
      "text/plain": [
       "<Figure size 432x288 with 1 Axes>"
      ]
     },
     "metadata": {
      "needs_background": "light"
     },
     "output_type": "display_data"
    }
   ],
   "source": [
    "sns.distplot(ted[ted['comments'] < 700]['comments'], color = 'g')"
   ]
  },
  {
   "cell_type": "code",
   "execution_count": 41,
   "metadata": {},
   "outputs": [
    {
     "data": {
      "image/png": "[encoded data removed]",
      "text/plain": [
       "<Figure size 432x288 with 1 Axes>"
      ]
     },
     "metadata": {
      "needs_background": "light"
     },
     "output_type": "display_data"
    }
   ],
   "source": [
    "ted['comments'].hist(edgecolor = \"black\", color = 'g')\n",
    "plt.xlabel('Comments', size = 12)\n",
    "plt.title('HIST OF COMMENTS', size = 15);"
   ]
  },
  {
   "cell_type": "code",
   "execution_count": 63,
   "metadata": {},
   "outputs": [
    {
     "data": {
      "text/plain": [
       "count    2550.000000\n",
       "mean      191.562353\n",
       "std       282.315223\n",
       "min         2.000000\n",
       "25%        63.000000\n",
       "50%       118.000000\n",
       "75%       221.750000\n",
       "max      6404.000000\n",
       "Name: comments, dtype: float64"
      ]
     },
     "execution_count": 63,
     "metadata": {},
     "output_type": "execute_result"
    }
   ],
   "source": [
    "ted['comments'].describe()"
   ]
  },
  {
   "cell_type": "markdown",
   "metadata": {},
   "source": [
    "- Số lượt bình luận trung bình *mean* trên TED Talks là 191 lượt. \n",
    "- Số lượt xem trung bình *median* là 118 lượt \n",
    "- Đa sô các bài nói chuyện có lượt bình luận dưới 700 lượt (chính xác là dưới mức 500 lượt). \n",
    "=> So với tổng mẫu là 2550 mà phần lớn lượt bình luận dưới 500 nên chắc chắn sẽ có outlier."
   ]
  },
  {
   "cell_type": "code",
   "execution_count": 71,
   "metadata": {},
   "outputs": [
    {
     "data": {
      "text/plain": [
       "<seaborn.axisgrid.JointGrid at 0x13b6951ff08>"
      ]
     },
     "execution_count": 71,
     "metadata": {},
     "output_type": "execute_result"
    },
    {
     "data": {
      "image/png": "[encoded data removed]",
      "text/plain": [
       "<Figure size 432x432 with 3 Axes>"
      ]
     },
     "metadata": {
      "needs_background": "light"
     },
     "output_type": "display_data"
    }
   ],
   "source": [
    "sns.jointplot(x = 'views', y = 'comments', data = ted, color = 'r')"
   ]
  },
  {
   "cell_type": "code",
   "execution_count": 68,
   "metadata": {},
   "outputs": [
    {
     "data": {
      "text/html": [
       "<div>\n",
       "<style scoped>\n",
       "    .dataframe tbody tr th:only-of-type {\n",
       "        vertical-align: middle;\n",
       "    }\n",
       "\n",
       "    .dataframe tbody tr th {\n",
       "        vertical-align: top;\n",
       "    }\n",
       "\n",
       "    .dataframe thead th {\n",
       "        text-align: right;\n",
       "    }\n",
       "</style>\n",
       "<table border=\"1\" class=\"dataframe\">\n",
       "  <thead>\n",
       "    <tr style=\"text-align: right;\">\n",
       "      <th></th>\n",
       "      <th>views</th>\n",
       "      <th>comments</th>\n",
       "    </tr>\n",
       "  </thead>\n",
       "  <tbody>\n",
       "    <tr>\n",
       "      <th>views</th>\n",
       "      <td>1.000000</td>\n",
       "      <td>0.530939</td>\n",
       "    </tr>\n",
       "    <tr>\n",
       "      <th>comments</th>\n",
       "      <td>0.530939</td>\n",
       "      <td>1.000000</td>\n",
       "    </tr>\n",
       "  </tbody>\n",
       "</table>\n",
       "</div>"
      ],
      "text/plain": [
       "             views  comments\n",
       "views     1.000000  0.530939\n",
       "comments  0.530939  1.000000"
      ]
     },
     "execution_count": 68,
     "metadata": {},
     "output_type": "execute_result"
    }
   ],
   "source": [
    "ted[['views', 'comments']].corr()"
   ]
  },
  {
   "cell_type": "code",
   "execution_count": 72,
   "metadata": {},
   "outputs": [
    {
     "data": {
      "image/png": "[encoded data removed]",
      "text/plain": [
       "<Figure size 432x288 with 1 Axes>"
      ]
     },
     "metadata": {
      "needs_background": "light"
     },
     "output_type": "display_data"
    }
   ],
   "source": [
    "#f, ax = plt.subplots(figsize=(10,8))\n",
    "sns.distplot(ted['languages'], color = 'y')\n",
    "plt.xlabel('Language', size = 12)\n",
    "plt.title('DISPLOT OF LANGUAGE', size = 15);"
   ]
  },
  {
   "cell_type": "code",
   "execution_count": 73,
   "metadata": {},
   "outputs": [
    {
     "data": {
      "text/plain": [
       "<matplotlib.axes._subplots.AxesSubplot at 0x13b6b2e6988>"
      ]
     },
     "execution_count": 73,
     "metadata": {},
     "output_type": "execute_result"
    },
    {
     "data": {
      "image/png": "[encoded data removed]",
      "text/plain": [
       "<Figure size 432x288 with 1 Axes>"
      ]
     },
     "metadata": {
      "needs_background": "light"
     },
     "output_type": "display_data"
    }
   ],
   "source": [
    "sns.distplot(ted[ted['comments'] < 55]['comments'], color = 'y')"
   ]
  },
  {
   "cell_type": "code",
   "execution_count": 74,
   "metadata": {},
   "outputs": [
    {
     "data": {
      "image/png": "[encoded data removed]",
      "text/plain": [
       "<Figure size 432x288 with 1 Axes>"
      ]
     },
     "metadata": {
      "needs_background": "light"
     },
     "output_type": "display_data"
    }
   ],
   "source": [
    "ted['languages'].hist(edgecolor = \"black\", color = 'y')\n",
    "plt.xlabel('Languages', size = 12)\n",
    "plt.title('HIST OF LANGUAGES', size = 15);"
   ]
  },
  {
   "cell_type": "code",
   "execution_count": 75,
   "metadata": {},
   "outputs": [
    {
     "data": {
      "text/plain": [
       "count    2550.000000\n",
       "mean       27.326275\n",
       "std         9.563452\n",
       "min         0.000000\n",
       "25%        23.000000\n",
       "50%        28.000000\n",
       "75%        33.000000\n",
       "max        72.000000\n",
       "Name: languages, dtype: float64"
      ]
     },
     "execution_count": 75,
     "metadata": {},
     "output_type": "execute_result"
    }
   ],
   "source": [
    "ted['languages'].describe()"
   ]
  },
  {
   "cell_type": "markdown",
   "metadata": {},
   "source": [
    "- Số lượng ngôn ngữ *mean* trên TED Talks là 27 ngôn ngữ. \n",
    "- Số lượng ngôn ngữ *median* là 9 ngôn ngữ. \n",
    "- Đa số các bài nói chuyện có số lượng ngôn ngữ dưới 50 ngôn ngữ."
   ]
  },
  {
   "cell_type": "code",
   "execution_count": 76,
   "metadata": {},
   "outputs": [
    {
     "data": {
      "text/plain": [
       "<seaborn.axisgrid.JointGrid at 0x13b6b4608c8>"
      ]
     },
     "execution_count": 76,
     "metadata": {},
     "output_type": "execute_result"
    },
    {
     "data": {
      "image/png": "[encoded data removed]",
      "text/plain": [
       "<Figure size 432x432 with 3 Axes>"
      ]
     },
     "metadata": {
      "needs_background": "light"
     },
     "output_type": "display_data"
    }
   ],
   "source": [
    "sns.jointplot(x = 'views', y = 'languages', data = ted, color = 'r')"
   ]
  },
  {
   "cell_type": "code",
   "execution_count": 79,
   "metadata": {},
   "outputs": [
    {
     "data": {
      "text/html": [
       "<div>\n",
       "<style scoped>\n",
       "    .dataframe tbody tr th:only-of-type {\n",
       "        vertical-align: middle;\n",
       "    }\n",
       "\n",
       "    .dataframe tbody tr th {\n",
       "        vertical-align: top;\n",
       "    }\n",
       "\n",
       "    .dataframe thead th {\n",
       "        text-align: right;\n",
       "    }\n",
       "</style>\n",
       "<table border=\"1\" class=\"dataframe\">\n",
       "  <thead>\n",
       "    <tr style=\"text-align: right;\">\n",
       "      <th></th>\n",
       "      <th>views</th>\n",
       "      <th>languages</th>\n",
       "    </tr>\n",
       "  </thead>\n",
       "  <tbody>\n",
       "    <tr>\n",
       "      <th>views</th>\n",
       "      <td>1.000000</td>\n",
       "      <td>0.377623</td>\n",
       "    </tr>\n",
       "    <tr>\n",
       "      <th>languages</th>\n",
       "      <td>0.377623</td>\n",
       "      <td>1.000000</td>\n",
       "    </tr>\n",
       "  </tbody>\n",
       "</table>\n",
       "</div>"
      ],
      "text/plain": [
       "              views  languages\n",
       "views      1.000000   0.377623\n",
       "languages  0.377623   1.000000"
      ]
     },
     "execution_count": 79,
     "metadata": {},
     "output_type": "execute_result"
    }
   ],
   "source": [
    "ted[['views', 'languages']].corr()"
   ]
  },
  {
   "cell_type": "code",
   "execution_count": null,
   "metadata": {},
   "outputs": [],
   "source": []
  }
 ],
 "metadata": {
  "kernelspec": {
   "display_name": "Python 3",
   "language": "python",
   "name": "python3"
  },
  "language_info": {
   "codemirror_mode": {
    "name": "ipython",
    "version": 3
   },
   "file_extension": ".py",
   "mimetype": "text/x-python",
   "name": "python",
   "nbconvert_exporter": "python",
   "pygments_lexer": "ipython3",
   "version": "3.7.6"
  }
 },
 "nbformat": 4,
 "nbformat_minor": 4
}
